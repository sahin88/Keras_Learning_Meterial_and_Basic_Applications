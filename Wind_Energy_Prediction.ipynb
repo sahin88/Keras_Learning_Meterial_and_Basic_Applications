{
  "nbformat": 4,
  "nbformat_minor": 0,
  "metadata": {
    "colab": {
      "name": "15_min.ipynb",
      "provenance": [],
      "collapsed_sections": []
    },
    "kernelspec": {
      "display_name": "Python 3",
      "language": "python",
      "name": "python3"
    },
    "language_info": {
      "codemirror_mode": {
        "name": "ipython",
        "version": 3
      },
      "file_extension": ".py",
      "mimetype": "text/x-python",
      "name": "python",
      "nbconvert_exporter": "python",
      "pygments_lexer": "ipython3",
      "version": "3.7.3"
    }
  },
  "cells": [
    {
      "cell_type": "code",
      "metadata": {
        "id": "UI_QfIKqkPlw"
      },
      "source": [
        "import pandas as pd\n",
        "\n",
        "data=pd.read_excel(r\"C:\\Users\\sahin\\Downloads\\power data 2017_15_min.xlsx\", sep=';', header=None)\n",
        "data.columns=['date','pwr']"
      ],
      "execution_count": null,
      "outputs": []
    },
    {
      "cell_type": "code",
      "metadata": {
        "id": "dNS_a8-mrIzT"
      },
      "source": [
        "data.drop(0,axis=0, inplace=True)"
      ],
      "execution_count": null,
      "outputs": []
    },
    {
      "cell_type": "code",
      "metadata": {
        "colab": {
          "base_uri": "https://localhost:8080/",
          "height": 34
        },
        "id": "y_8ytGNKmLKS",
        "outputId": "78825c4b-52e8-45c3-bf9e-89f6b9fa27a3"
      },
      "source": [
        "data.shape"
      ],
      "execution_count": null,
      "outputs": [
        {
          "data": {
            "text/plain": [
              "(35040, 2)"
            ]
          },
          "execution_count": 5,
          "metadata": {},
          "output_type": "execute_result"
        }
      ]
    },
    {
      "cell_type": "code",
      "metadata": {
        "colab": {
          "base_uri": "https://localhost:8080/",
          "height": 112
        },
        "id": "HmwZHEj-mQRA",
        "outputId": "78b1aab1-4a43-4f87-c8b0-3e7eba3db656"
      },
      "source": [
        "data.head(2)"
      ],
      "execution_count": null,
      "outputs": [
        {
          "data": {
            "text/html": [
              "<div>\n",
              "<style scoped>\n",
              "    .dataframe tbody tr th:only-of-type {\n",
              "        vertical-align: middle;\n",
              "    }\n",
              "\n",
              "    .dataframe tbody tr th {\n",
              "        vertical-align: top;\n",
              "    }\n",
              "\n",
              "    .dataframe thead th {\n",
              "        text-align: right;\n",
              "    }\n",
              "</style>\n",
              "<table border=\"1\" class=\"dataframe\">\n",
              "  <thead>\n",
              "    <tr style=\"text-align: right;\">\n",
              "      <th></th>\n",
              "      <th>date</th>\n",
              "      <th>pwr</th>\n",
              "    </tr>\n",
              "  </thead>\n",
              "  <tbody>\n",
              "    <tr>\n",
              "      <th>1</th>\n",
              "      <td>2018-01-01 00:00:00</td>\n",
              "      <td>2976</td>\n",
              "    </tr>\n",
              "    <tr>\n",
              "      <th>2</th>\n",
              "      <td>2018-01-01 00:15:00</td>\n",
              "      <td>2655</td>\n",
              "    </tr>\n",
              "  </tbody>\n",
              "</table>\n",
              "</div>"
            ],
            "text/plain": [
              "                  date   pwr\n",
              "1  2018-01-01 00:00:00  2976\n",
              "2  2018-01-01 00:15:00  2655"
            ]
          },
          "execution_count": 7,
          "metadata": {},
          "output_type": "execute_result"
        }
      ]
    },
    {
      "cell_type": "code",
      "metadata": {
        "colab": {
          "base_uri": "https://localhost:8080/",
          "height": 112
        },
        "id": "HH6jea0IrA-4",
        "outputId": "6f157c36-6aa1-486d-d81d-0254db41e009"
      },
      "source": [
        "data.tail(4)"
      ],
      "execution_count": null,
      "outputs": [
        {
          "data": {
            "text/html": [
              "<div>\n",
              "<style scoped>\n",
              "    .dataframe tbody tr th:only-of-type {\n",
              "        vertical-align: middle;\n",
              "    }\n",
              "\n",
              "    .dataframe tbody tr th {\n",
              "        vertical-align: top;\n",
              "    }\n",
              "\n",
              "    .dataframe thead th {\n",
              "        text-align: right;\n",
              "    }\n",
              "</style>\n",
              "<table border=\"1\" class=\"dataframe\">\n",
              "  <thead>\n",
              "    <tr style=\"text-align: right;\">\n",
              "      <th></th>\n",
              "      <th>date</th>\n",
              "      <th>pwr</th>\n",
              "    </tr>\n",
              "  </thead>\n",
              "  <tbody>\n",
              "    <tr>\n",
              "      <th>35037</th>\n",
              "      <td>2018-12-31 23:00:00</td>\n",
              "      <td>9959</td>\n",
              "    </tr>\n",
              "    <tr>\n",
              "      <th>35038</th>\n",
              "      <td>2018-12-31 23:15:00</td>\n",
              "      <td>10495.5</td>\n",
              "    </tr>\n",
              "    <tr>\n",
              "      <th>35039</th>\n",
              "      <td>2018-12-31 23:30:00</td>\n",
              "      <td>11712</td>\n",
              "    </tr>\n",
              "    <tr>\n",
              "      <th>35040</th>\n",
              "      <td>2018-12-31 23:45:00</td>\n",
              "      <td>12338.5</td>\n",
              "    </tr>\n",
              "  </tbody>\n",
              "</table>\n",
              "</div>"
            ],
            "text/plain": [
              "                      date      pwr\n",
              "35037  2018-12-31 23:00:00     9959\n",
              "35038  2018-12-31 23:15:00  10495.5\n",
              "35039  2018-12-31 23:30:00    11712\n",
              "35040  2018-12-31 23:45:00  12338.5"
            ]
          },
          "execution_count": 8,
          "metadata": {},
          "output_type": "execute_result"
        }
      ]
    },
    {
      "cell_type": "code",
      "metadata": {
        "colab": {
          "base_uri": "https://localhost:8080/",
          "height": 69
        },
        "id": "UxKsGRdnmm4g",
        "outputId": "32d7c526-0ad7-42b5-eda8-06d608ec3dac"
      },
      "source": [
        "data.dtypes"
      ],
      "execution_count": null,
      "outputs": [
        {
          "data": {
            "text/plain": [
              "date    object\n",
              "pwr     object\n",
              "dtype: object"
            ]
          },
          "execution_count": 9,
          "metadata": {},
          "output_type": "execute_result"
        }
      ]
    },
    {
      "cell_type": "code",
      "metadata": {
        "id": "iL_dmr-YtLeO"
      },
      "source": [
        "data.drop('date', axis=1, inplace=True)"
      ],
      "execution_count": null,
      "outputs": []
    },
    {
      "cell_type": "code",
      "metadata": {
        "colab": {
          "base_uri": "https://localhost:8080/",
          "height": 112
        },
        "id": "J-Vx7PQvtTzA",
        "outputId": "9e56120b-a98b-4831-dce1-fdae13db54e3"
      },
      "source": [
        "data.head(2)"
      ],
      "execution_count": null,
      "outputs": [
        {
          "data": {
            "text/html": [
              "<div>\n",
              "<style scoped>\n",
              "    .dataframe tbody tr th:only-of-type {\n",
              "        vertical-align: middle;\n",
              "    }\n",
              "\n",
              "    .dataframe tbody tr th {\n",
              "        vertical-align: top;\n",
              "    }\n",
              "\n",
              "    .dataframe thead th {\n",
              "        text-align: right;\n",
              "    }\n",
              "</style>\n",
              "<table border=\"1\" class=\"dataframe\">\n",
              "  <thead>\n",
              "    <tr style=\"text-align: right;\">\n",
              "      <th></th>\n",
              "      <th>pwr</th>\n",
              "    </tr>\n",
              "  </thead>\n",
              "  <tbody>\n",
              "    <tr>\n",
              "      <th>1</th>\n",
              "      <td>2976</td>\n",
              "    </tr>\n",
              "    <tr>\n",
              "      <th>2</th>\n",
              "      <td>2655</td>\n",
              "    </tr>\n",
              "  </tbody>\n",
              "</table>\n",
              "</div>"
            ],
            "text/plain": [
              "    pwr\n",
              "1  2976\n",
              "2  2655"
            ]
          },
          "execution_count": 11,
          "metadata": {},
          "output_type": "execute_result"
        }
      ]
    },
    {
      "cell_type": "code",
      "metadata": {
        "id": "rPh8ATI2tXkD"
      },
      "source": [
        "df=pd.read_excel(r\"C:\\Users\\sahin\\Downloads\\power data 2018_15_min.xlsx\", sep=';')"
      ],
      "execution_count": null,
      "outputs": []
    },
    {
      "cell_type": "code",
      "metadata": {
        "id": "ZgkY7jJvtc9d"
      },
      "source": [
        "df.drop('t_final',axis=1, inplace=True)\n"
      ],
      "execution_count": null,
      "outputs": []
    },
    {
      "cell_type": "code",
      "metadata": {
        "colab": {
          "base_uri": "https://localhost:8080/",
          "height": 112
        },
        "id": "WbMMqitbtfeE",
        "outputId": "74e9c0aa-d997-4d81-a50b-60cb646b44d8"
      },
      "source": [
        "df.tail(2)"
      ],
      "execution_count": null,
      "outputs": [
        {
          "data": {
            "text/html": [
              "<div>\n",
              "<style scoped>\n",
              "    .dataframe tbody tr th:only-of-type {\n",
              "        vertical-align: middle;\n",
              "    }\n",
              "\n",
              "    .dataframe tbody tr th {\n",
              "        vertical-align: top;\n",
              "    }\n",
              "\n",
              "    .dataframe thead th {\n",
              "        text-align: right;\n",
              "    }\n",
              "</style>\n",
              "<table border=\"1\" class=\"dataframe\">\n",
              "  <thead>\n",
              "    <tr style=\"text-align: right;\">\n",
              "      <th></th>\n",
              "      <th>pwr</th>\n",
              "    </tr>\n",
              "  </thead>\n",
              "  <tbody>\n",
              "    <tr>\n",
              "      <th>35038</th>\n",
              "      <td>317.0</td>\n",
              "    </tr>\n",
              "    <tr>\n",
              "      <th>35039</th>\n",
              "      <td>317.0</td>\n",
              "    </tr>\n",
              "  </tbody>\n",
              "</table>\n",
              "</div>"
            ],
            "text/plain": [
              "         pwr\n",
              "35038  317.0\n",
              "35039  317.0"
            ]
          },
          "execution_count": 16,
          "metadata": {},
          "output_type": "execute_result"
        }
      ]
    },
    {
      "cell_type": "code",
      "metadata": {
        "id": "H4iW7f-wtfxq"
      },
      "source": [
        "data=data.append(df,ignore_index=True,sort=True)"
      ],
      "execution_count": null,
      "outputs": []
    },
    {
      "cell_type": "code",
      "metadata": {
        "colab": {
          "base_uri": "https://localhost:8080/",
          "height": 34
        },
        "id": "AdPC0SNztf8y",
        "outputId": "e0fcb9f6-648f-4fc0-ee35-63bc49a511db"
      },
      "source": [
        "len(data)"
      ],
      "execution_count": null,
      "outputs": [
        {
          "data": {
            "text/plain": [
              "70080"
            ]
          },
          "execution_count": 18,
          "metadata": {},
          "output_type": "execute_result"
        }
      ]
    },
    {
      "cell_type": "code",
      "metadata": {
        "id": "bJ0CtxKPnzTX"
      },
      "source": [
        "date=pd.date_range(start='2017-01-01 00:00:00', end='2018-12-31 23:45:00',freq='15Min')\n"
      ],
      "execution_count": null,
      "outputs": []
    },
    {
      "cell_type": "code",
      "metadata": {
        "colab": {
          "base_uri": "https://localhost:8080/",
          "height": 206
        },
        "id": "4TWxELjtseua",
        "outputId": "8a8b1393-7821-4ec1-e57b-5b9d1b6213c9"
      },
      "source": [
        "data['date']=date\n",
        "\n",
        "\n",
        "data = data.reindex(columns=['date','pwr'])\n",
        "data.head()"
      ],
      "execution_count": null,
      "outputs": [
        {
          "data": {
            "text/html": [
              "<div>\n",
              "<style scoped>\n",
              "    .dataframe tbody tr th:only-of-type {\n",
              "        vertical-align: middle;\n",
              "    }\n",
              "\n",
              "    .dataframe tbody tr th {\n",
              "        vertical-align: top;\n",
              "    }\n",
              "\n",
              "    .dataframe thead th {\n",
              "        text-align: right;\n",
              "    }\n",
              "</style>\n",
              "<table border=\"1\" class=\"dataframe\">\n",
              "  <thead>\n",
              "    <tr style=\"text-align: right;\">\n",
              "      <th></th>\n",
              "      <th>date</th>\n",
              "      <th>pwr</th>\n",
              "    </tr>\n",
              "  </thead>\n",
              "  <tbody>\n",
              "    <tr>\n",
              "      <th>0</th>\n",
              "      <td>2017-01-01 00:00:00</td>\n",
              "      <td>2976</td>\n",
              "    </tr>\n",
              "    <tr>\n",
              "      <th>1</th>\n",
              "      <td>2017-01-01 00:15:00</td>\n",
              "      <td>2655</td>\n",
              "    </tr>\n",
              "    <tr>\n",
              "      <th>2</th>\n",
              "      <td>2017-01-01 00:30:00</td>\n",
              "      <td>1963</td>\n",
              "    </tr>\n",
              "    <tr>\n",
              "      <th>3</th>\n",
              "      <td>2017-01-01 00:45:00</td>\n",
              "      <td>2183</td>\n",
              "    </tr>\n",
              "    <tr>\n",
              "      <th>4</th>\n",
              "      <td>2017-01-01 01:00:00</td>\n",
              "      <td>2183</td>\n",
              "    </tr>\n",
              "  </tbody>\n",
              "</table>\n",
              "</div>"
            ],
            "text/plain": [
              "                 date   pwr\n",
              "0 2017-01-01 00:00:00  2976\n",
              "1 2017-01-01 00:15:00  2655\n",
              "2 2017-01-01 00:30:00  1963\n",
              "3 2017-01-01 00:45:00  2183\n",
              "4 2017-01-01 01:00:00  2183"
            ]
          },
          "execution_count": 20,
          "metadata": {},
          "output_type": "execute_result"
        }
      ]
    },
    {
      "cell_type": "code",
      "metadata": {
        "id": "1wBev2PeoSNF"
      },
      "source": [
        "for i in  range(1,6,1):\n",
        "    data['t'+str(i)]=data['pwr'].shift(i)"
      ],
      "execution_count": null,
      "outputs": []
    },
    {
      "cell_type": "code",
      "metadata": {
        "id": "QCDDk1Tqvct6"
      },
      "source": [
        "data.fillna(0.00, inplace=True)"
      ],
      "execution_count": null,
      "outputs": []
    },
    {
      "cell_type": "code",
      "metadata": {
        "colab": {
          "base_uri": "https://localhost:8080/",
          "height": 112
        },
        "id": "DaMZ20C0vj9D",
        "outputId": "871391ea-7a7b-4070-a685-1c67b3e05f85"
      },
      "source": [
        "data.head(2)"
      ],
      "execution_count": null,
      "outputs": [
        {
          "data": {
            "text/html": [
              "<div>\n",
              "<style scoped>\n",
              "    .dataframe tbody tr th:only-of-type {\n",
              "        vertical-align: middle;\n",
              "    }\n",
              "\n",
              "    .dataframe tbody tr th {\n",
              "        vertical-align: top;\n",
              "    }\n",
              "\n",
              "    .dataframe thead th {\n",
              "        text-align: right;\n",
              "    }\n",
              "</style>\n",
              "<table border=\"1\" class=\"dataframe\">\n",
              "  <thead>\n",
              "    <tr style=\"text-align: right;\">\n",
              "      <th></th>\n",
              "      <th>date</th>\n",
              "      <th>pwr</th>\n",
              "      <th>t1</th>\n",
              "      <th>t2</th>\n",
              "      <th>t3</th>\n",
              "      <th>t4</th>\n",
              "      <th>t5</th>\n",
              "    </tr>\n",
              "  </thead>\n",
              "  <tbody>\n",
              "    <tr>\n",
              "      <th>0</th>\n",
              "      <td>2017-01-01 00:00:00</td>\n",
              "      <td>2976.0</td>\n",
              "      <td>0.0</td>\n",
              "      <td>0.0</td>\n",
              "      <td>0.0</td>\n",
              "      <td>0.0</td>\n",
              "      <td>0.0</td>\n",
              "    </tr>\n",
              "    <tr>\n",
              "      <th>1</th>\n",
              "      <td>2017-01-01 00:15:00</td>\n",
              "      <td>2655.0</td>\n",
              "      <td>2976.0</td>\n",
              "      <td>0.0</td>\n",
              "      <td>0.0</td>\n",
              "      <td>0.0</td>\n",
              "      <td>0.0</td>\n",
              "    </tr>\n",
              "  </tbody>\n",
              "</table>\n",
              "</div>"
            ],
            "text/plain": [
              "                 date     pwr      t1   t2   t3   t4   t5\n",
              "0 2017-01-01 00:00:00  2976.0     0.0  0.0  0.0  0.0  0.0\n",
              "1 2017-01-01 00:15:00  2655.0  2976.0  0.0  0.0  0.0  0.0"
            ]
          },
          "execution_count": 26,
          "metadata": {},
          "output_type": "execute_result"
        }
      ]
    },
    {
      "cell_type": "code",
      "metadata": {
        "colab": {
          "base_uri": "https://localhost:8080/",
          "height": 112
        },
        "id": "XGaJvewivp4M",
        "outputId": "8e02def2-234d-45f2-b535-af5a4c3cb955"
      },
      "source": [
        "data.tail(2)"
      ],
      "execution_count": null,
      "outputs": [
        {
          "data": {
            "text/html": [
              "<div>\n",
              "<style scoped>\n",
              "    .dataframe tbody tr th:only-of-type {\n",
              "        vertical-align: middle;\n",
              "    }\n",
              "\n",
              "    .dataframe tbody tr th {\n",
              "        vertical-align: top;\n",
              "    }\n",
              "\n",
              "    .dataframe thead th {\n",
              "        text-align: right;\n",
              "    }\n",
              "</style>\n",
              "<table border=\"1\" class=\"dataframe\">\n",
              "  <thead>\n",
              "    <tr style=\"text-align: right;\">\n",
              "      <th></th>\n",
              "      <th>date</th>\n",
              "      <th>pwr</th>\n",
              "      <th>t1</th>\n",
              "      <th>t2</th>\n",
              "      <th>t3</th>\n",
              "      <th>t4</th>\n",
              "      <th>t5</th>\n",
              "    </tr>\n",
              "  </thead>\n",
              "  <tbody>\n",
              "    <tr>\n",
              "      <th>70078</th>\n",
              "      <td>2018-12-31 23:30:00</td>\n",
              "      <td>317.0</td>\n",
              "      <td>330.5</td>\n",
              "      <td>265.0</td>\n",
              "      <td>278.0</td>\n",
              "      <td>0.0</td>\n",
              "      <td>0.0</td>\n",
              "    </tr>\n",
              "    <tr>\n",
              "      <th>70079</th>\n",
              "      <td>2018-12-31 23:45:00</td>\n",
              "      <td>317.0</td>\n",
              "      <td>317.0</td>\n",
              "      <td>330.5</td>\n",
              "      <td>265.0</td>\n",
              "      <td>278.0</td>\n",
              "      <td>0.0</td>\n",
              "    </tr>\n",
              "  </tbody>\n",
              "</table>\n",
              "</div>"
            ],
            "text/plain": [
              "                     date    pwr     t1     t2     t3     t4   t5\n",
              "70078 2018-12-31 23:30:00  317.0  330.5  265.0  278.0    0.0  0.0\n",
              "70079 2018-12-31 23:45:00  317.0  317.0  330.5  265.0  278.0  0.0"
            ]
          },
          "execution_count": 27,
          "metadata": {},
          "output_type": "execute_result"
        }
      ]
    },
    {
      "cell_type": "code",
      "metadata": {
        "id": "q6pxr2CovxBy"
      },
      "source": [
        "x_trainig_data=data[(data['date']>pd.to_datetime('02/01/2017'))&(data['date']<=pd.to_datetime('31/10/2018'))]\n",
        "x_test_data=data[(data['date']>pd.to_datetime('31/10/2018'))&(data['date']<=pd.to_datetime('30/11/2018'))]\n",
        "x_validation_data=data[data['date']>pd.to_datetime('30/11/2018')]\n"
      ],
      "execution_count": null,
      "outputs": []
    },
    {
      "cell_type": "code",
      "metadata": {
        "id": "SYRuoihqwHIr"
      },
      "source": [
        "import matplotlib.pyplot as plt\n",
        "from matplotlib.pyplot import figure\n",
        "import matplotlib"
      ],
      "execution_count": null,
      "outputs": []
    },
    {
      "cell_type": "code",
      "metadata": {
        "colab": {
          "base_uri": "https://localhost:8080/",
          "height": 497
        },
        "id": "kzaRw_qVwO5T",
        "outputId": "40740454-531e-4f56-ac5c-a3811e098b63"
      },
      "source": [
        "\n",
        "%matplotlib inline\n",
        "from pandas.plotting import register_matplotlib_converters\n",
        "figure(num=None,figsize=(20,7))\n",
        "\n",
        "plt.style.use('fivethirtyeight')\n",
        "plt.plot(x_trainig_data['date'],x_trainig_data['pwr'], color='steelblue')\n",
        "plt.legend()\n",
        "plt.title('Training Data',fontsize=25)\n",
        "plt.ylabel('Power /Watt', fontsize=20)\n",
        "plt.xlabel('Time Index', fontsize=20)\n",
        "plt.grid(True)\n",
        "plt.show()"
      ],
      "execution_count": null,
      "outputs": [
        {
          "name": "stderr",
          "output_type": "stream",
          "text": [
            "C:\\Users\\JUAVILL\\AppData\\Local\\Continuum\\anaconda3\\lib\\site-packages\\pandas\\plotting\\_converter.py:129: FutureWarning: Using an implicitly registered datetime converter for a matplotlib plotting method. The converter was registered by pandas on import. Future versions of pandas will require you to explicitly register matplotlib converters.\n",
            "\n",
            "To register the converters:\n",
            "\t>>> from pandas.plotting import register_matplotlib_converters\n",
            "\t>>> register_matplotlib_converters()\n",
            "  warnings.warn(msg, FutureWarning)\n"
          ]
        },
        {
          "data": {
            "image/png": "[encoded data removed]",
            "text/plain": [
              "<Figure size 1440x504 with 1 Axes>"
            ]
          },
          "metadata": {
            "needs_background": "light"
          },
          "output_type": "display_data"
        }
      ]
    },
    {
      "cell_type": "code",
      "metadata": {
        "colab": {
          "base_uri": "https://localhost:8080/",
          "height": 525
        },
        "id": "6DOCiagjworv",
        "outputId": "3ce8c723-acbc-4356-b05c-163373b356fa"
      },
      "source": [
        "figure(num=None,figsize=(17,7))\n",
        "plt.plot(x_test_data['date'],x_test_data['pwr'], color='limegreen')\n",
        "plt.legend()\n",
        "plt.title('Testing Data',fontsize=25)\n",
        "plt.ylabel('Power /Watt', fontsize=20)\n",
        "plt.xlabel('Time Index', fontsize=20)\n",
        "plt.grid(True)\n",
        "plt.show()"
      ],
      "execution_count": null,
      "outputs": [
        {
          "data": {
            "image/png": "[encoded data removed]",
            "text/plain": [
              "<Figure size 1224x504 with 1 Axes>"
            ]
          },
          "metadata": {},
          "output_type": "display_data"
        }
      ]
    },
    {
      "cell_type": "code",
      "metadata": {
        "colab": {
          "base_uri": "https://localhost:8080/",
          "height": 525
        },
        "id": "X7YBynhQwqiU",
        "outputId": "bda0418d-566c-4255-d04c-7a5af1a22339"
      },
      "source": [
        "figure(num=None,figsize=(17,7))\n",
        "plt.plot(x_validation_data['date'],x_validation_data['pwr'], color='lightcoral')\n",
        "plt.legend()\n",
        "plt.title('Validation Data',fontsize=25)\n",
        "plt.ylabel('Power /Watt', fontsize=20)\n",
        "plt.xlabel('Time Index', fontsize=20)\n",
        "plt.grid(True)\n",
        "plt.show()"
      ],
      "execution_count": null,
      "outputs": [
        {
          "data": {
            "image/png": "[encoded data removed]",
            "text/plain": [
              "<Figure size 1224x504 with 1 Axes>"
            ]
          },
          "metadata": {},
          "output_type": "display_data"
        }
      ]
    },
    {
      "cell_type": "code",
      "metadata": {
        "id": "idS0n0bwwvfU"
      },
      "source": [
        "x_train,y_train=x_trainig_data.drop(['date','pwr'], axis=1),x_trainig_data['pwr'].values\n",
        "x_test,y_test=x_test_data.drop(['date','pwr'], axis=1),x_test_data['pwr'].values\n",
        "x_valid,y_valid=x_validation_data.drop(['date','pwr'], axis=1),x_validation_data['pwr'].values"
      ],
      "execution_count": null,
      "outputs": []
    },
    {
      "cell_type": "code",
      "metadata": {
        "colab": {
          "base_uri": "https://localhost:8080/",
          "height": 34
        },
        "id": "TFZmyzcaw3wg",
        "outputId": "4f46c8ba-49c7-42a0-efc4-a96cec66f030"
      },
      "source": [
        "y_train.shape"
      ],
      "execution_count": null,
      "outputs": [
        {
          "data": {
            "text/plain": [
              "(61152,)"
            ]
          },
          "execution_count": 35,
          "metadata": {},
          "output_type": "execute_result"
        }
      ]
    },
    {
      "cell_type": "code",
      "metadata": {
        "id": "lO7KRp53w42m"
      },
      "source": [
        "y_train=y_train.reshape(61152,1)\n",
        "y_test=y_test.reshape(2880,1)\n",
        "y_valid=y_valid.reshape(3071,1)"
      ],
      "execution_count": null,
      "outputs": []
    },
    {
      "cell_type": "code",
      "metadata": {
        "colab": {
          "base_uri": "https://localhost:8080/",
          "height": 34
        },
        "id": "0GjJA1Q2xihm",
        "outputId": "95709db4-37e7-4ef2-fd0c-1d8e7385db2c"
      },
      "source": [
        "from sklearn.preprocessing import StandardScaler,MinMaxScaler\n",
        "import numpy as np\n",
        "scaler=StandardScaler()\n",
        "\n",
        "x_train_scaled=scaler.fit_transform(x_train)\n",
        "x_test_scaled=scaler.fit_transform(x_test)\n",
        "x_valid_scaled=scaler.fit_transform(x_valid)\n",
        "\n",
        "\n",
        "y_valid_scaled=scaler.fit_transform(y_valid)\n",
        "y_test_scaled=scaler.fit_transform(y_test)\n",
        "y_train_scaled=scaler.fit_transform(y_train)\n",
        "\n",
        "\n",
        "x_train_scaled=np.expand_dims(x_train_scaled, axis=1)\n",
        "x_test_scaled=np.expand_dims(x_test_scaled, axis=1)\n",
        "x_valid_scaled=np.expand_dims(x_valid_scaled, axis=1)\n",
        "x_train_scaled.shape"
      ],
      "execution_count": null,
      "outputs": [
        {
          "data": {
            "text/plain": [
              "(61152, 1, 5)"
            ]
          },
          "execution_count": 37,
          "metadata": {},
          "output_type": "execute_result"
        }
      ]
    },
    {
      "cell_type": "code",
      "metadata": {
        "colab": {
          "base_uri": "https://localhost:8080/",
          "height": 34
        },
        "id": "ANn4_qunxo-3",
        "outputId": "3fd38e23-819c-4cae-8040-435ef0d7fc4f"
      },
      "source": [
        "import keras\n",
        "from keras.models import Sequential\n",
        "from keras.layers import Dense,LSTM,GRU,ELU\n",
        "from keras.optimizers import adam,RMSprop\n",
        "from keras.callbacks import TensorBoard,EarlyStopping,ModelCheckpoint\n",
        "import time\n",
        "unit=time.time()\n",
        "\n",
        "\n",
        "directory_2=\"C:\\\\Users\\\\JUAVILL\\\\Downloads\\\\tensorboard {}\".format(unit)\n",
        "\n",
        "tensorboard=TensorBoard(log_dir=directory_2)\n",
        "model_check=ModelCheckpoint(filepath=\"C:\\\\Users\\\\JUAVILL\\\\Downloads\\\\model{}\".format(unit),monitor='loss',save_best_only=True,\n",
        "                            save_weights_only=True, verbose=2)\n",
        "\n",
        "earl_stop=EarlyStopping(monitor='val_loss',patience=5, verbose=1)\n",
        "print('...Building up a model')\n",
        "model=Sequential()\n",
        "model.add(LSTM(824, input_shape=(1,5),dropout=0.1))\n",
        "\n",
        "\n",
        "\n",
        "model.add(Dense(1, activation='elu'))\n",
        "#optimizer=RMSprop(lr=0.001)\n",
        "model.compile(loss='mean_squared_error',optimizer='adam', metrics=['accuracy'])\n"
      ],
      "execution_count": null,
      "outputs": [
        {
          "name": "stdout",
          "output_type": "stream",
          "text": [
            "...Building up a model\n"
          ]
        }
      ]
    },
    {
      "cell_type": "code",
      "metadata": {
        "colab": {
          "base_uri": "https://localhost:8080/",
          "height": 225
        },
        "id": "BfgoPnwNx1-0",
        "outputId": "a039d640-9b9e-4483-8095-a86f8bb5ff42"
      },
      "source": [
        "model.summary()"
      ],
      "execution_count": null,
      "outputs": [
        {
          "name": "stdout",
          "output_type": "stream",
          "text": [
            "Model: \"sequential_6\"\n",
            "_________________________________________________________________\n",
            "Layer (type)                 Output Shape              Param #   \n",
            "=================================================================\n",
            "lstm_6 (LSTM)                (None, 824)               2735680   \n",
            "_________________________________________________________________\n",
            "dense_6 (Dense)              (None, 1)                 825       \n",
            "=================================================================\n",
            "Total params: 2,736,505\n",
            "Trainable params: 2,736,505\n",
            "Non-trainable params: 0\n",
            "_________________________________________________________________\n"
          ]
        }
      ]
    },
    {
      "cell_type": "code",
      "metadata": {
        "colab": {
          "base_uri": "https://localhost:8080/",
          "height": 940
        },
        "id": "DzPm-Xr0x7H0",
        "outputId": "bec65164-7cb6-4de5-8248-b7ba67f65138"
      },
      "source": [
        "%%time\n",
        "history=model.fit(x_train_scaled, y_train_scaled, \n",
        "                      validation_data=(x_valid_scaled,y_valid_scaled),\n",
        "                      callbacks=[tensorboard,model_check,earl_stop],epochs=10, batch_size=96, verbose=1)"
      ],
      "execution_count": null,
      "outputs": [
        {
          "name": "stdout",
          "output_type": "stream",
          "text": [
            "Train on 61152 samples, validate on 3071 samples\n",
            "Epoch 1/10\n",
            "61152/61152 [==============================] - 119s 2ms/step - loss: 0.1031 - acc: 0.0000e+00 - val_loss: 0.0780 - val_acc: 0.0000e+00\n",
            "\n",
            "Epoch 00001: loss improved from inf to 0.10310, saving model to C:\\Users\\JUAVILL\\Downloads\\model1568573536.7677364\n",
            "Epoch 2/10\n",
            "61152/61152 [==============================] - 116s 2ms/step - loss: 0.0744 - acc: 0.0000e+00 - val_loss: 0.0735 - val_acc: 0.0000e+00\n",
            "\n",
            "Epoch 00002: loss improved from 0.10310 to 0.07435, saving model to C:\\Users\\JUAVILL\\Downloads\\model1568573536.7677364\n",
            "Epoch 3/10\n",
            "61152/61152 [==============================] - 119s 2ms/step - loss: 0.0682 - acc: 0.0000e+00 - val_loss: 0.0732 - val_acc: 0.0000e+00\n",
            "\n",
            "Epoch 00003: loss improved from 0.07435 to 0.06822, saving model to C:\\Users\\JUAVILL\\Downloads\\model1568573536.7677364\n",
            "Epoch 4/10\n",
            "61152/61152 [==============================] - 123s 2ms/step - loss: 0.0667 - acc: 0.0000e+00 - val_loss: 0.0720 - val_acc: 0.0000e+00\n",
            "\n",
            "Epoch 00004: loss improved from 0.06822 to 0.06671, saving model to C:\\Users\\JUAVILL\\Downloads\\model1568573536.7677364\n",
            "Epoch 5/10\n",
            "61152/61152 [==============================] - 120s 2ms/step - loss: 0.0640 - acc: 0.0000e+00 - val_loss: 0.0718 - val_acc: 0.0000e+00\n",
            "\n",
            "Epoch 00005: loss improved from 0.06671 to 0.06404, saving model to C:\\Users\\JUAVILL\\Downloads\\model1568573536.7677364\n",
            "Epoch 6/10\n",
            "61152/61152 [==============================] - 121s 2ms/step - loss: 0.0623 - acc: 0.0000e+00 - val_loss: 0.0708 - val_acc: 0.0000e+00\n",
            "\n",
            "Epoch 00006: loss improved from 0.06404 to 0.06226, saving model to C:\\Users\\JUAVILL\\Downloads\\model1568573536.7677364\n",
            "Epoch 7/10\n",
            "61152/61152 [==============================] - 119s 2ms/step - loss: 0.0596 - acc: 0.0000e+00 - val_loss: 0.0759 - val_acc: 0.0000e+00\n",
            "\n",
            "Epoch 00007: loss improved from 0.06226 to 0.05965, saving model to C:\\Users\\JUAVILL\\Downloads\\model1568573536.7677364\n",
            "Epoch 8/10\n",
            "61152/61152 [==============================] - 118s 2ms/step - loss: 0.0590 - acc: 0.0000e+00 - val_loss: 0.0740 - val_acc: 0.0000e+00\n",
            "\n",
            "Epoch 00008: loss improved from 0.05965 to 0.05902, saving model to C:\\Users\\JUAVILL\\Downloads\\model1568573536.7677364\n",
            "Epoch 9/10\n",
            "61152/61152 [==============================] - 114s 2ms/step - loss: 0.0581 - acc: 0.0000e+00 - val_loss: 0.0719 - val_acc: 0.0000e+00\n",
            "\n",
            "Epoch 00009: loss improved from 0.05902 to 0.05809, saving model to C:\\Users\\JUAVILL\\Downloads\\model1568573536.7677364\n",
            "Epoch 10/10\n",
            "61152/61152 [==============================] - 120s 2ms/step - loss: 0.0578 - acc: 0.0000e+00 - val_loss: 0.0724 - val_acc: 0.0000e+00\n",
            "\n",
            "Epoch 00010: loss improved from 0.05809 to 0.05776, saving model to C:\\Users\\JUAVILL\\Downloads\\model1568573536.7677364\n",
            "Wall time: 19min 57s\n"
          ]
        }
      ]
    },
    {
      "cell_type": "code",
      "metadata": {
        "id": "x6-gLMoG1RrW",
        "outputId": "866385a2-9b41-491c-e0fe-3423572fcfac"
      },
      "source": [
        "print(history)"
      ],
      "execution_count": null,
      "outputs": [
        {
          "ename": "NameError",
          "evalue": "name 'history' is not defined",
          "output_type": "error",
          "traceback": [
            "\u001b[1;31m---------------------------------------------------------------------------\u001b[0m",
            "\u001b[1;31mNameError\u001b[0m                                 Traceback (most recent call last)",
            "\u001b[1;32m<ipython-input-80-0b220396248c>\u001b[0m in \u001b[0;36m<module>\u001b[1;34m\u001b[0m\n\u001b[1;32m----> 1\u001b[1;33m \u001b[0mprint\u001b[0m\u001b[1;33m(\u001b[0m\u001b[0mhistory\u001b[0m\u001b[1;33m)\u001b[0m\u001b[1;33m\u001b[0m\u001b[1;33m\u001b[0m\u001b[0m\n\u001b[0m",
            "\u001b[1;31mNameError\u001b[0m: name 'history' is not defined"
          ]
        }
      ]
    },
    {
      "cell_type": "code",
      "metadata": {
        "colab": {
          "base_uri": "https://localhost:8080/",
          "height": 477
        },
        "id": "o5yrW-R_yROY",
        "outputId": "9916009b-9b5f-480c-e3bc-b217f6e67d1a"
      },
      "source": [
        "\n",
        "figure(num=None, figsize=(13,7))\n",
        "plt.plot(history.history['loss'], linewidth=2.5, label='loss')\n",
        "plt.plot(history.history['val_loss'], label='val_loss')\n",
        "\n",
        "plt.legend()\n",
        "plt.grid(True)\n",
        "\n",
        "\n",
        "plt.show()"
      ],
      "execution_count": null,
      "outputs": [
        {
          "ename": "NameError",
          "evalue": "name 'history' is not defined",
          "output_type": "error",
          "traceback": [
            "\u001b[1;31m---------------------------------------------------------------------------\u001b[0m",
            "\u001b[1;31mNameError\u001b[0m                                 Traceback (most recent call last)",
            "\u001b[1;32m<ipython-input-78-1b722d763cd9>\u001b[0m in \u001b[0;36m<module>\u001b[1;34m\u001b[0m\n\u001b[0;32m      1\u001b[0m \u001b[1;33m\u001b[0m\u001b[0m\n\u001b[0;32m      2\u001b[0m \u001b[0mfigure\u001b[0m\u001b[1;33m(\u001b[0m\u001b[0mnum\u001b[0m\u001b[1;33m=\u001b[0m\u001b[1;32mNone\u001b[0m\u001b[1;33m,\u001b[0m \u001b[0mfigsize\u001b[0m\u001b[1;33m=\u001b[0m\u001b[1;33m(\u001b[0m\u001b[1;36m13\u001b[0m\u001b[1;33m,\u001b[0m\u001b[1;36m7\u001b[0m\u001b[1;33m)\u001b[0m\u001b[1;33m)\u001b[0m\u001b[1;33m\u001b[0m\u001b[1;33m\u001b[0m\u001b[0m\n\u001b[1;32m----> 3\u001b[1;33m \u001b[0mplt\u001b[0m\u001b[1;33m.\u001b[0m\u001b[0mplot\u001b[0m\u001b[1;33m(\u001b[0m\u001b[0mhistory\u001b[0m\u001b[1;33m.\u001b[0m\u001b[0mhistory\u001b[0m\u001b[1;33m[\u001b[0m\u001b[1;34m'loss'\u001b[0m\u001b[1;33m]\u001b[0m\u001b[1;33m,\u001b[0m \u001b[0mlinewidth\u001b[0m\u001b[1;33m=\u001b[0m\u001b[1;36m2.5\u001b[0m\u001b[1;33m,\u001b[0m \u001b[0mlabel\u001b[0m\u001b[1;33m=\u001b[0m\u001b[1;34m'loss'\u001b[0m\u001b[1;33m)\u001b[0m\u001b[1;33m\u001b[0m\u001b[1;33m\u001b[0m\u001b[0m\n\u001b[0m\u001b[0;32m      4\u001b[0m \u001b[0mplt\u001b[0m\u001b[1;33m.\u001b[0m\u001b[0mplot\u001b[0m\u001b[1;33m(\u001b[0m\u001b[0mhistory\u001b[0m\u001b[1;33m.\u001b[0m\u001b[0mhistory\u001b[0m\u001b[1;33m[\u001b[0m\u001b[1;34m'val_loss'\u001b[0m\u001b[1;33m]\u001b[0m\u001b[1;33m,\u001b[0m \u001b[0mlabel\u001b[0m\u001b[1;33m=\u001b[0m\u001b[1;34m'val_loss'\u001b[0m\u001b[1;33m)\u001b[0m\u001b[1;33m\u001b[0m\u001b[1;33m\u001b[0m\u001b[0m\n\u001b[0;32m      5\u001b[0m \u001b[1;33m\u001b[0m\u001b[0m\n",
            "\u001b[1;31mNameError\u001b[0m: name 'history' is not defined"
          ]
        },
        {
          "data": {
            "text/plain": [
              "<Figure size 936x504 with 0 Axes>"
            ]
          },
          "metadata": {},
          "output_type": "display_data"
        }
      ]
    },
    {
      "cell_type": "code",
      "metadata": {
        "id": "29Elv1p41RrX"
      },
      "source": [
        "\n",
        "x_forecast=data[(data['date']>pd.to_datetime('30/12/2017'))&(data['date']<=pd.to_datetime('31/12/2018'))]\n",
        "x_train=x_forecast.drop(['date','pwr'], axis=1)\n",
        "x_train_scaled=scaler.fit_transform(x_train)"
      ],
      "execution_count": null,
      "outputs": []
    },
    {
      "cell_type": "code",
      "metadata": {
        "id": "OLUzhClU046B"
      },
      "source": [
        "y_pre=model.predict(x_test_scaled)"
      ],
      "execution_count": null,
      "outputs": []
    },
    {
      "cell_type": "code",
      "metadata": {
        "colab": {
          "base_uri": "https://localhost:8080/",
          "height": 477
        },
        "id": "KDNfPAvf0_9x",
        "outputId": "b09a5896-3abc-4811-98fc-a134922ce694"
      },
      "source": [
        "figure(num=None, figsize=(13,7))\n",
        "plt.plot(y_pre,label='predict',linewidth=4)\n",
        "plt.plot(y_test_scaled,label='true')\n",
        "plt.legend()\n",
        "plt.grid(True)\n",
        "plt.show()"
      ],
      "execution_count": null,
      "outputs": [
        {
          "data": {
            "image/png": "[encoded data removed]",
            "text/plain": [
              "<Figure size 936x504 with 1 Axes>"
            ]
          },
          "metadata": {
            "tags": []
          },
          "output_type": "display_data"
        }
      ]
    },
    {
      "cell_type": "code",
      "metadata": {
        "id": "NytRaD9D278F"
      },
      "source": [
        "y_new_inverse = scaler.inverse_transform(y_pre)\n"
      ],
      "execution_count": null,
      "outputs": []
    },
    {
      "cell_type": "code",
      "metadata": {
        "colab": {
          "base_uri": "https://localhost:8080/",
          "height": 139
        },
        "id": "dxQJLx193rL4",
        "outputId": "2c51a581-7e28-49e6-c615-ce8c524a8af8"
      },
      "source": [
        "y_new_inverse"
      ],
      "execution_count": null,
      "outputs": [
        {
          "data": {
            "text/plain": [
              "array([[ 7942.4478],\n",
              "       [ 7910.6665],\n",
              "       [ 8249.485 ],\n",
              "       ...,\n",
              "       [13617.73  ],\n",
              "       [13637.068 ],\n",
              "       [13682.999 ]], dtype=float32)"
            ]
          },
          "execution_count": 118,
          "metadata": {
            "tags": []
          },
          "output_type": "execute_result"
        }
      ]
    },
    {
      "cell_type": "code",
      "metadata": {
        "id": "kKy-5IrK1RrX"
      },
      "source": [
        "deneme=pd.date_range(start='2017-01-01 00:00:00', end='2017-01-01 23:45:00',freq='15min')"
      ],
      "execution_count": null,
      "outputs": []
    },
    {
      "cell_type": "code",
      "metadata": {
        "id": "37orQnmF1RrX",
        "outputId": "d7d2cfe5-6f8b-4f90-b836-a9adfb133381"
      },
      "source": [
        "data[35040:35040+96]"
      ],
      "execution_count": null,
      "outputs": [
        {
          "data": {
            "text/html": [
              "<div>\n",
              "<style scoped>\n",
              "    .dataframe tbody tr th:only-of-type {\n",
              "        vertical-align: middle;\n",
              "    }\n",
              "\n",
              "    .dataframe tbody tr th {\n",
              "        vertical-align: top;\n",
              "    }\n",
              "\n",
              "    .dataframe thead th {\n",
              "        text-align: right;\n",
              "    }\n",
              "</style>\n",
              "<table border=\"1\" class=\"dataframe\">\n",
              "  <thead>\n",
              "    <tr style=\"text-align: right;\">\n",
              "      <th></th>\n",
              "      <th>date</th>\n",
              "      <th>pwr</th>\n",
              "      <th>t1</th>\n",
              "      <th>t2</th>\n",
              "      <th>t3</th>\n",
              "      <th>t4</th>\n",
              "      <th>t5</th>\n",
              "    </tr>\n",
              "  </thead>\n",
              "  <tbody>\n",
              "    <tr>\n",
              "      <th>35040</th>\n",
              "      <td>2018-01-01 00:00:00</td>\n",
              "      <td>12514.0</td>\n",
              "      <td>12338.5</td>\n",
              "      <td>11712.0</td>\n",
              "      <td>10495.5</td>\n",
              "      <td>9959.0</td>\n",
              "      <td>7951.0</td>\n",
              "    </tr>\n",
              "    <tr>\n",
              "      <th>35041</th>\n",
              "      <td>2018-01-01 00:15:00</td>\n",
              "      <td>12489.0</td>\n",
              "      <td>12514.0</td>\n",
              "      <td>12338.5</td>\n",
              "      <td>11712.0</td>\n",
              "      <td>10495.5</td>\n",
              "      <td>9959.0</td>\n",
              "    </tr>\n",
              "    <tr>\n",
              "      <th>35042</th>\n",
              "      <td>2018-01-01 00:30:00</td>\n",
              "      <td>12514.0</td>\n",
              "      <td>12489.0</td>\n",
              "      <td>12514.0</td>\n",
              "      <td>12338.5</td>\n",
              "      <td>11712.0</td>\n",
              "      <td>10495.5</td>\n",
              "    </tr>\n",
              "    <tr>\n",
              "      <th>35043</th>\n",
              "      <td>2018-01-01 00:45:00</td>\n",
              "      <td>12388.5</td>\n",
              "      <td>12514.0</td>\n",
              "      <td>12489.0</td>\n",
              "      <td>12514.0</td>\n",
              "      <td>12338.5</td>\n",
              "      <td>11712.0</td>\n",
              "    </tr>\n",
              "    <tr>\n",
              "      <th>35044</th>\n",
              "      <td>2018-01-01 01:00:00</td>\n",
              "      <td>12112.0</td>\n",
              "      <td>12388.5</td>\n",
              "      <td>12514.0</td>\n",
              "      <td>12489.0</td>\n",
              "      <td>12514.0</td>\n",
              "      <td>12338.5</td>\n",
              "    </tr>\n",
              "    <tr>\n",
              "      <th>35045</th>\n",
              "      <td>2018-01-01 01:15:00</td>\n",
              "      <td>11164.0</td>\n",
              "      <td>12112.0</td>\n",
              "      <td>12388.5</td>\n",
              "      <td>12514.0</td>\n",
              "      <td>12489.0</td>\n",
              "      <td>12514.0</td>\n",
              "    </tr>\n",
              "    <tr>\n",
              "      <th>35046</th>\n",
              "      <td>2018-01-01 01:30:00</td>\n",
              "      <td>9810.0</td>\n",
              "      <td>11164.0</td>\n",
              "      <td>12112.0</td>\n",
              "      <td>12388.5</td>\n",
              "      <td>12514.0</td>\n",
              "      <td>12489.0</td>\n",
              "    </tr>\n",
              "    <tr>\n",
              "      <th>35047</th>\n",
              "      <td>2018-01-01 01:45:00</td>\n",
              "      <td>7282.0</td>\n",
              "      <td>9810.0</td>\n",
              "      <td>11164.0</td>\n",
              "      <td>12112.0</td>\n",
              "      <td>12388.5</td>\n",
              "      <td>12514.0</td>\n",
              "    </tr>\n",
              "    <tr>\n",
              "      <th>35048</th>\n",
              "      <td>2018-01-01 02:00:00</td>\n",
              "      <td>6394.0</td>\n",
              "      <td>7282.0</td>\n",
              "      <td>9810.0</td>\n",
              "      <td>11164.0</td>\n",
              "      <td>12112.0</td>\n",
              "      <td>12388.5</td>\n",
              "    </tr>\n",
              "    <tr>\n",
              "      <th>35049</th>\n",
              "      <td>2018-01-01 02:15:00</td>\n",
              "      <td>6035.0</td>\n",
              "      <td>6394.0</td>\n",
              "      <td>7282.0</td>\n",
              "      <td>9810.0</td>\n",
              "      <td>11164.0</td>\n",
              "      <td>12112.0</td>\n",
              "    </tr>\n",
              "    <tr>\n",
              "      <th>35050</th>\n",
              "      <td>2018-01-01 02:30:00</td>\n",
              "      <td>6838.0</td>\n",
              "      <td>6035.0</td>\n",
              "      <td>6394.0</td>\n",
              "      <td>7282.0</td>\n",
              "      <td>9810.0</td>\n",
              "      <td>11164.0</td>\n",
              "    </tr>\n",
              "    <tr>\n",
              "      <th>35051</th>\n",
              "      <td>2018-01-01 02:45:00</td>\n",
              "      <td>4337.0</td>\n",
              "      <td>6838.0</td>\n",
              "      <td>6035.0</td>\n",
              "      <td>6394.0</td>\n",
              "      <td>7282.0</td>\n",
              "      <td>9810.0</td>\n",
              "    </tr>\n",
              "    <tr>\n",
              "      <th>35052</th>\n",
              "      <td>2018-01-01 03:00:00</td>\n",
              "      <td>3075.0</td>\n",
              "      <td>4337.0</td>\n",
              "      <td>6838.0</td>\n",
              "      <td>6035.0</td>\n",
              "      <td>6394.0</td>\n",
              "      <td>7282.0</td>\n",
              "    </tr>\n",
              "    <tr>\n",
              "      <th>35053</th>\n",
              "      <td>2018-01-01 03:15:00</td>\n",
              "      <td>2947.5</td>\n",
              "      <td>3075.0</td>\n",
              "      <td>4337.0</td>\n",
              "      <td>6838.0</td>\n",
              "      <td>6035.0</td>\n",
              "      <td>6394.0</td>\n",
              "    </tr>\n",
              "    <tr>\n",
              "      <th>35054</th>\n",
              "      <td>2018-01-01 03:30:00</td>\n",
              "      <td>2877.0</td>\n",
              "      <td>2947.5</td>\n",
              "      <td>3075.0</td>\n",
              "      <td>4337.0</td>\n",
              "      <td>6838.0</td>\n",
              "      <td>6035.0</td>\n",
              "    </tr>\n",
              "    <tr>\n",
              "      <th>35055</th>\n",
              "      <td>2018-01-01 03:45:00</td>\n",
              "      <td>1684.5</td>\n",
              "      <td>2877.0</td>\n",
              "      <td>2947.5</td>\n",
              "      <td>3075.0</td>\n",
              "      <td>4337.0</td>\n",
              "      <td>6838.0</td>\n",
              "    </tr>\n",
              "    <tr>\n",
              "      <th>35056</th>\n",
              "      <td>2018-01-01 04:00:00</td>\n",
              "      <td>1147.0</td>\n",
              "      <td>1684.5</td>\n",
              "      <td>2877.0</td>\n",
              "      <td>2947.5</td>\n",
              "      <td>3075.0</td>\n",
              "      <td>4337.0</td>\n",
              "    </tr>\n",
              "    <tr>\n",
              "      <th>35057</th>\n",
              "      <td>2018-01-01 04:15:00</td>\n",
              "      <td>3882.5</td>\n",
              "      <td>1147.0</td>\n",
              "      <td>1684.5</td>\n",
              "      <td>2877.0</td>\n",
              "      <td>2947.5</td>\n",
              "      <td>3075.0</td>\n",
              "    </tr>\n",
              "    <tr>\n",
              "      <th>35058</th>\n",
              "      <td>2018-01-01 04:30:00</td>\n",
              "      <td>6838.0</td>\n",
              "      <td>3882.5</td>\n",
              "      <td>1147.0</td>\n",
              "      <td>1684.5</td>\n",
              "      <td>2877.0</td>\n",
              "      <td>2947.5</td>\n",
              "    </tr>\n",
              "    <tr>\n",
              "      <th>35059</th>\n",
              "      <td>2018-01-01 04:45:00</td>\n",
              "      <td>9448.5</td>\n",
              "      <td>6838.0</td>\n",
              "      <td>3882.5</td>\n",
              "      <td>1147.0</td>\n",
              "      <td>1684.5</td>\n",
              "      <td>2877.0</td>\n",
              "    </tr>\n",
              "    <tr>\n",
              "      <th>35060</th>\n",
              "      <td>2018-01-01 05:00:00</td>\n",
              "      <td>8022.0</td>\n",
              "      <td>9448.5</td>\n",
              "      <td>6838.0</td>\n",
              "      <td>3882.5</td>\n",
              "      <td>1147.0</td>\n",
              "      <td>1684.5</td>\n",
              "    </tr>\n",
              "    <tr>\n",
              "      <th>35061</th>\n",
              "      <td>2018-01-01 05:15:00</td>\n",
              "      <td>4895.5</td>\n",
              "      <td>8022.0</td>\n",
              "      <td>9448.5</td>\n",
              "      <td>6838.0</td>\n",
              "      <td>3882.5</td>\n",
              "      <td>1147.0</td>\n",
              "    </tr>\n",
              "    <tr>\n",
              "      <th>35062</th>\n",
              "      <td>2018-01-01 05:30:00</td>\n",
              "      <td>5315.0</td>\n",
              "      <td>4895.5</td>\n",
              "      <td>8022.0</td>\n",
              "      <td>9448.5</td>\n",
              "      <td>6838.0</td>\n",
              "      <td>3882.5</td>\n",
              "    </tr>\n",
              "    <tr>\n",
              "      <th>35063</th>\n",
              "      <td>2018-01-01 05:45:00</td>\n",
              "      <td>6468.5</td>\n",
              "      <td>5315.0</td>\n",
              "      <td>4895.5</td>\n",
              "      <td>8022.0</td>\n",
              "      <td>9448.5</td>\n",
              "      <td>6838.0</td>\n",
              "    </tr>\n",
              "    <tr>\n",
              "      <th>35064</th>\n",
              "      <td>2018-01-01 06:00:00</td>\n",
              "      <td>8022.0</td>\n",
              "      <td>6468.5</td>\n",
              "      <td>5315.0</td>\n",
              "      <td>4895.5</td>\n",
              "      <td>8022.0</td>\n",
              "      <td>9448.5</td>\n",
              "    </tr>\n",
              "    <tr>\n",
              "      <th>35065</th>\n",
              "      <td>2018-01-01 06:15:00</td>\n",
              "      <td>8394.5</td>\n",
              "      <td>8022.0</td>\n",
              "      <td>6468.5</td>\n",
              "      <td>5315.0</td>\n",
              "      <td>4895.5</td>\n",
              "      <td>8022.0</td>\n",
              "    </tr>\n",
              "    <tr>\n",
              "      <th>35066</th>\n",
              "      <td>2018-01-01 06:30:00</td>\n",
              "      <td>6098.0</td>\n",
              "      <td>8394.5</td>\n",
              "      <td>8022.0</td>\n",
              "      <td>6468.5</td>\n",
              "      <td>5315.0</td>\n",
              "      <td>4895.5</td>\n",
              "    </tr>\n",
              "    <tr>\n",
              "      <th>35067</th>\n",
              "      <td>2018-01-01 06:45:00</td>\n",
              "      <td>6690.0</td>\n",
              "      <td>6098.0</td>\n",
              "      <td>8394.5</td>\n",
              "      <td>8022.0</td>\n",
              "      <td>6468.5</td>\n",
              "      <td>5315.0</td>\n",
              "    </tr>\n",
              "    <tr>\n",
              "      <th>35068</th>\n",
              "      <td>2018-01-01 07:00:00</td>\n",
              "      <td>6542.0</td>\n",
              "      <td>6690.0</td>\n",
              "      <td>6098.0</td>\n",
              "      <td>8394.5</td>\n",
              "      <td>8022.0</td>\n",
              "      <td>6468.5</td>\n",
              "    </tr>\n",
              "    <tr>\n",
              "      <th>35069</th>\n",
              "      <td>2018-01-01 07:15:00</td>\n",
              "      <td>6320.0</td>\n",
              "      <td>6542.0</td>\n",
              "      <td>6690.0</td>\n",
              "      <td>6098.0</td>\n",
              "      <td>8394.5</td>\n",
              "      <td>8022.0</td>\n",
              "    </tr>\n",
              "    <tr>\n",
              "      <th>...</th>\n",
              "      <td>...</td>\n",
              "      <td>...</td>\n",
              "      <td>...</td>\n",
              "      <td>...</td>\n",
              "      <td>...</td>\n",
              "      <td>...</td>\n",
              "      <td>...</td>\n",
              "    </tr>\n",
              "    <tr>\n",
              "      <th>35106</th>\n",
              "      <td>2018-01-01 16:30:00</td>\n",
              "      <td>2976.0</td>\n",
              "      <td>3919.5</td>\n",
              "      <td>2549.0</td>\n",
              "      <td>2801.0</td>\n",
              "      <td>5442.0</td>\n",
              "      <td>6764.0</td>\n",
              "    </tr>\n",
              "    <tr>\n",
              "      <th>35107</th>\n",
              "      <td>2018-01-01 16:45:00</td>\n",
              "      <td>3331.0</td>\n",
              "      <td>2976.0</td>\n",
              "      <td>3919.5</td>\n",
              "      <td>2549.0</td>\n",
              "      <td>2801.0</td>\n",
              "      <td>5442.0</td>\n",
              "    </tr>\n",
              "    <tr>\n",
              "      <th>35108</th>\n",
              "      <td>2018-01-01 17:00:00</td>\n",
              "      <td>4066.0</td>\n",
              "      <td>3331.0</td>\n",
              "      <td>2976.0</td>\n",
              "      <td>3919.5</td>\n",
              "      <td>2549.0</td>\n",
              "      <td>2801.0</td>\n",
              "    </tr>\n",
              "    <tr>\n",
              "      <th>35109</th>\n",
              "      <td>2018-01-01 17:15:00</td>\n",
              "      <td>2581.5</td>\n",
              "      <td>4066.0</td>\n",
              "      <td>3331.0</td>\n",
              "      <td>2976.0</td>\n",
              "      <td>3919.5</td>\n",
              "      <td>2549.0</td>\n",
              "    </tr>\n",
              "    <tr>\n",
              "      <th>35110</th>\n",
              "      <td>2018-01-01 17:30:00</td>\n",
              "      <td>1625.0</td>\n",
              "      <td>2581.5</td>\n",
              "      <td>4066.0</td>\n",
              "      <td>3331.0</td>\n",
              "      <td>2976.0</td>\n",
              "      <td>3919.5</td>\n",
              "    </tr>\n",
              "    <tr>\n",
              "      <th>35111</th>\n",
              "      <td>2018-01-01 17:45:00</td>\n",
              "      <td>1306.5</td>\n",
              "      <td>1625.0</td>\n",
              "      <td>2581.5</td>\n",
              "      <td>4066.0</td>\n",
              "      <td>3331.0</td>\n",
              "      <td>2976.0</td>\n",
              "    </tr>\n",
              "    <tr>\n",
              "      <th>35112</th>\n",
              "      <td>2018-01-01 18:00:00</td>\n",
              "      <td>2110.0</td>\n",
              "      <td>1306.5</td>\n",
              "      <td>1625.0</td>\n",
              "      <td>2581.5</td>\n",
              "      <td>4066.0</td>\n",
              "      <td>3331.0</td>\n",
              "    </tr>\n",
              "    <tr>\n",
              "      <th>35113</th>\n",
              "      <td>2018-01-01 18:15:00</td>\n",
              "      <td>2402.0</td>\n",
              "      <td>2110.0</td>\n",
              "      <td>1306.5</td>\n",
              "      <td>1625.0</td>\n",
              "      <td>2581.5</td>\n",
              "      <td>4066.0</td>\n",
              "    </tr>\n",
              "    <tr>\n",
              "      <th>35114</th>\n",
              "      <td>2018-01-01 18:30:00</td>\n",
              "      <td>2549.0</td>\n",
              "      <td>2402.0</td>\n",
              "      <td>2110.0</td>\n",
              "      <td>1306.5</td>\n",
              "      <td>1625.0</td>\n",
              "      <td>2581.5</td>\n",
              "    </tr>\n",
              "    <tr>\n",
              "      <th>35115</th>\n",
              "      <td>2018-01-01 18:45:00</td>\n",
              "      <td>2976.0</td>\n",
              "      <td>2549.0</td>\n",
              "      <td>2402.0</td>\n",
              "      <td>2110.0</td>\n",
              "      <td>1306.5</td>\n",
              "      <td>1625.0</td>\n",
              "    </tr>\n",
              "    <tr>\n",
              "      <th>35116</th>\n",
              "      <td>2018-01-01 19:00:00</td>\n",
              "      <td>2475.0</td>\n",
              "      <td>2976.0</td>\n",
              "      <td>2549.0</td>\n",
              "      <td>2402.0</td>\n",
              "      <td>2110.0</td>\n",
              "      <td>1306.5</td>\n",
              "    </tr>\n",
              "    <tr>\n",
              "      <th>35117</th>\n",
              "      <td>2018-01-01 19:15:00</td>\n",
              "      <td>2365.5</td>\n",
              "      <td>2475.0</td>\n",
              "      <td>2976.0</td>\n",
              "      <td>2549.0</td>\n",
              "      <td>2402.0</td>\n",
              "      <td>2110.0</td>\n",
              "    </tr>\n",
              "    <tr>\n",
              "      <th>35118</th>\n",
              "      <td>2018-01-01 19:30:00</td>\n",
              "      <td>2877.0</td>\n",
              "      <td>2365.5</td>\n",
              "      <td>2475.0</td>\n",
              "      <td>2976.0</td>\n",
              "      <td>2549.0</td>\n",
              "      <td>2402.0</td>\n",
              "    </tr>\n",
              "    <tr>\n",
              "      <th>35119</th>\n",
              "      <td>2018-01-01 19:45:00</td>\n",
              "      <td>2219.0</td>\n",
              "      <td>2877.0</td>\n",
              "      <td>2365.5</td>\n",
              "      <td>2475.0</td>\n",
              "      <td>2976.0</td>\n",
              "      <td>2549.0</td>\n",
              "    </tr>\n",
              "    <tr>\n",
              "      <th>35120</th>\n",
              "      <td>2018-01-01 20:00:00</td>\n",
              "      <td>2110.0</td>\n",
              "      <td>2219.0</td>\n",
              "      <td>2877.0</td>\n",
              "      <td>2365.5</td>\n",
              "      <td>2475.0</td>\n",
              "      <td>2976.0</td>\n",
              "    </tr>\n",
              "    <tr>\n",
              "      <th>35121</th>\n",
              "      <td>2018-01-01 20:15:00</td>\n",
              "      <td>2751.5</td>\n",
              "      <td>2110.0</td>\n",
              "      <td>2219.0</td>\n",
              "      <td>2877.0</td>\n",
              "      <td>2365.5</td>\n",
              "      <td>2475.0</td>\n",
              "    </tr>\n",
              "    <tr>\n",
              "      <th>35122</th>\n",
              "      <td>2018-01-01 20:30:00</td>\n",
              "      <td>3967.0</td>\n",
              "      <td>2751.5</td>\n",
              "      <td>2110.0</td>\n",
              "      <td>2219.0</td>\n",
              "      <td>2877.0</td>\n",
              "      <td>2365.5</td>\n",
              "    </tr>\n",
              "    <tr>\n",
              "      <th>35123</th>\n",
              "      <td>2018-01-01 20:45:00</td>\n",
              "      <td>5760.0</td>\n",
              "      <td>3967.0</td>\n",
              "      <td>2751.5</td>\n",
              "      <td>2110.0</td>\n",
              "      <td>2219.0</td>\n",
              "      <td>2877.0</td>\n",
              "    </tr>\n",
              "    <tr>\n",
              "      <th>35124</th>\n",
              "      <td>2018-01-01 21:00:00</td>\n",
              "      <td>3571.0</td>\n",
              "      <td>5760.0</td>\n",
              "      <td>3967.0</td>\n",
              "      <td>2751.5</td>\n",
              "      <td>2110.0</td>\n",
              "      <td>2219.0</td>\n",
              "    </tr>\n",
              "    <tr>\n",
              "      <th>35125</th>\n",
              "      <td>2018-01-01 21:15:00</td>\n",
              "      <td>2786.0</td>\n",
              "      <td>3571.0</td>\n",
              "      <td>5760.0</td>\n",
              "      <td>3967.0</td>\n",
              "      <td>2751.5</td>\n",
              "      <td>2110.0</td>\n",
              "    </tr>\n",
              "    <tr>\n",
              "      <th>35126</th>\n",
              "      <td>2018-01-01 21:30:00</td>\n",
              "      <td>3471.0</td>\n",
              "      <td>2786.0</td>\n",
              "      <td>3571.0</td>\n",
              "      <td>5760.0</td>\n",
              "      <td>3967.0</td>\n",
              "      <td>2751.5</td>\n",
              "    </tr>\n",
              "    <tr>\n",
              "      <th>35127</th>\n",
              "      <td>2018-01-01 21:45:00</td>\n",
              "      <td>2626.5</td>\n",
              "      <td>3471.0</td>\n",
              "      <td>2786.0</td>\n",
              "      <td>3571.0</td>\n",
              "      <td>5760.0</td>\n",
              "      <td>3967.0</td>\n",
              "    </tr>\n",
              "    <tr>\n",
              "      <th>35128</th>\n",
              "      <td>2018-01-01 22:00:00</td>\n",
              "      <td>2329.0</td>\n",
              "      <td>2626.5</td>\n",
              "      <td>3471.0</td>\n",
              "      <td>2786.0</td>\n",
              "      <td>3571.0</td>\n",
              "      <td>5760.0</td>\n",
              "    </tr>\n",
              "    <tr>\n",
              "      <th>35129</th>\n",
              "      <td>2018-01-01 22:15:00</td>\n",
              "      <td>2402.0</td>\n",
              "      <td>2329.0</td>\n",
              "      <td>2626.5</td>\n",
              "      <td>3471.0</td>\n",
              "      <td>2786.0</td>\n",
              "      <td>3571.0</td>\n",
              "    </tr>\n",
              "    <tr>\n",
              "      <th>35130</th>\n",
              "      <td>2018-01-01 22:30:00</td>\n",
              "      <td>1678.0</td>\n",
              "      <td>2402.0</td>\n",
              "      <td>2329.0</td>\n",
              "      <td>2626.5</td>\n",
              "      <td>3471.0</td>\n",
              "      <td>2786.0</td>\n",
              "    </tr>\n",
              "    <tr>\n",
              "      <th>35131</th>\n",
              "      <td>2018-01-01 22:45:00</td>\n",
              "      <td>1625.0</td>\n",
              "      <td>1678.0</td>\n",
              "      <td>2402.0</td>\n",
              "      <td>2329.0</td>\n",
              "      <td>2626.5</td>\n",
              "      <td>3471.0</td>\n",
              "    </tr>\n",
              "    <tr>\n",
              "      <th>35132</th>\n",
              "      <td>2018-01-01 23:00:00</td>\n",
              "      <td>2183.0</td>\n",
              "      <td>1625.0</td>\n",
              "      <td>1678.0</td>\n",
              "      <td>2402.0</td>\n",
              "      <td>2329.0</td>\n",
              "      <td>2626.5</td>\n",
              "    </tr>\n",
              "    <tr>\n",
              "      <th>35133</th>\n",
              "      <td>2018-01-01 23:15:00</td>\n",
              "      <td>3135.0</td>\n",
              "      <td>2183.0</td>\n",
              "      <td>1625.0</td>\n",
              "      <td>1678.0</td>\n",
              "      <td>2402.0</td>\n",
              "      <td>2329.0</td>\n",
              "    </tr>\n",
              "    <tr>\n",
              "      <th>35134</th>\n",
              "      <td>2018-01-01 23:30:00</td>\n",
              "      <td>3868.0</td>\n",
              "      <td>3135.0</td>\n",
              "      <td>2183.0</td>\n",
              "      <td>1625.0</td>\n",
              "      <td>1678.0</td>\n",
              "      <td>2402.0</td>\n",
              "    </tr>\n",
              "    <tr>\n",
              "      <th>35135</th>\n",
              "      <td>2018-01-01 23:45:00</td>\n",
              "      <td>4436.0</td>\n",
              "      <td>3868.0</td>\n",
              "      <td>3135.0</td>\n",
              "      <td>2183.0</td>\n",
              "      <td>1625.0</td>\n",
              "      <td>1678.0</td>\n",
              "    </tr>\n",
              "  </tbody>\n",
              "</table>\n",
              "<p>96 rows × 7 columns</p>\n",
              "</div>"
            ],
            "text/plain": [
              "                     date      pwr       t1       t2       t3       t4  \\\n",
              "35040 2018-01-01 00:00:00  12514.0  12338.5  11712.0  10495.5   9959.0   \n",
              "35041 2018-01-01 00:15:00  12489.0  12514.0  12338.5  11712.0  10495.5   \n",
              "35042 2018-01-01 00:30:00  12514.0  12489.0  12514.0  12338.5  11712.0   \n",
              "35043 2018-01-01 00:45:00  12388.5  12514.0  12489.0  12514.0  12338.5   \n",
              "35044 2018-01-01 01:00:00  12112.0  12388.5  12514.0  12489.0  12514.0   \n",
              "35045 2018-01-01 01:15:00  11164.0  12112.0  12388.5  12514.0  12489.0   \n",
              "35046 2018-01-01 01:30:00   9810.0  11164.0  12112.0  12388.5  12514.0   \n",
              "35047 2018-01-01 01:45:00   7282.0   9810.0  11164.0  12112.0  12388.5   \n",
              "35048 2018-01-01 02:00:00   6394.0   7282.0   9810.0  11164.0  12112.0   \n",
              "35049 2018-01-01 02:15:00   6035.0   6394.0   7282.0   9810.0  11164.0   \n",
              "35050 2018-01-01 02:30:00   6838.0   6035.0   6394.0   7282.0   9810.0   \n",
              "35051 2018-01-01 02:45:00   4337.0   6838.0   6035.0   6394.0   7282.0   \n",
              "35052 2018-01-01 03:00:00   3075.0   4337.0   6838.0   6035.0   6394.0   \n",
              "35053 2018-01-01 03:15:00   2947.5   3075.0   4337.0   6838.0   6035.0   \n",
              "35054 2018-01-01 03:30:00   2877.0   2947.5   3075.0   4337.0   6838.0   \n",
              "35055 2018-01-01 03:45:00   1684.5   2877.0   2947.5   3075.0   4337.0   \n",
              "35056 2018-01-01 04:00:00   1147.0   1684.5   2877.0   2947.5   3075.0   \n",
              "35057 2018-01-01 04:15:00   3882.5   1147.0   1684.5   2877.0   2947.5   \n",
              "35058 2018-01-01 04:30:00   6838.0   3882.5   1147.0   1684.5   2877.0   \n",
              "35059 2018-01-01 04:45:00   9448.5   6838.0   3882.5   1147.0   1684.5   \n",
              "35060 2018-01-01 05:00:00   8022.0   9448.5   6838.0   3882.5   1147.0   \n",
              "35061 2018-01-01 05:15:00   4895.5   8022.0   9448.5   6838.0   3882.5   \n",
              "35062 2018-01-01 05:30:00   5315.0   4895.5   8022.0   9448.5   6838.0   \n",
              "35063 2018-01-01 05:45:00   6468.5   5315.0   4895.5   8022.0   9448.5   \n",
              "35064 2018-01-01 06:00:00   8022.0   6468.5   5315.0   4895.5   8022.0   \n",
              "35065 2018-01-01 06:15:00   8394.5   8022.0   6468.5   5315.0   4895.5   \n",
              "35066 2018-01-01 06:30:00   6098.0   8394.5   8022.0   6468.5   5315.0   \n",
              "35067 2018-01-01 06:45:00   6690.0   6098.0   8394.5   8022.0   6468.5   \n",
              "35068 2018-01-01 07:00:00   6542.0   6690.0   6098.0   8394.5   8022.0   \n",
              "35069 2018-01-01 07:15:00   6320.0   6542.0   6690.0   6098.0   8394.5   \n",
              "...                   ...      ...      ...      ...      ...      ...   \n",
              "35106 2018-01-01 16:30:00   2976.0   3919.5   2549.0   2801.0   5442.0   \n",
              "35107 2018-01-01 16:45:00   3331.0   2976.0   3919.5   2549.0   2801.0   \n",
              "35108 2018-01-01 17:00:00   4066.0   3331.0   2976.0   3919.5   2549.0   \n",
              "35109 2018-01-01 17:15:00   2581.5   4066.0   3331.0   2976.0   3919.5   \n",
              "35110 2018-01-01 17:30:00   1625.0   2581.5   4066.0   3331.0   2976.0   \n",
              "35111 2018-01-01 17:45:00   1306.5   1625.0   2581.5   4066.0   3331.0   \n",
              "35112 2018-01-01 18:00:00   2110.0   1306.5   1625.0   2581.5   4066.0   \n",
              "35113 2018-01-01 18:15:00   2402.0   2110.0   1306.5   1625.0   2581.5   \n",
              "35114 2018-01-01 18:30:00   2549.0   2402.0   2110.0   1306.5   1625.0   \n",
              "35115 2018-01-01 18:45:00   2976.0   2549.0   2402.0   2110.0   1306.5   \n",
              "35116 2018-01-01 19:00:00   2475.0   2976.0   2549.0   2402.0   2110.0   \n",
              "35117 2018-01-01 19:15:00   2365.5   2475.0   2976.0   2549.0   2402.0   \n",
              "35118 2018-01-01 19:30:00   2877.0   2365.5   2475.0   2976.0   2549.0   \n",
              "35119 2018-01-01 19:45:00   2219.0   2877.0   2365.5   2475.0   2976.0   \n",
              "35120 2018-01-01 20:00:00   2110.0   2219.0   2877.0   2365.5   2475.0   \n",
              "35121 2018-01-01 20:15:00   2751.5   2110.0   2219.0   2877.0   2365.5   \n",
              "35122 2018-01-01 20:30:00   3967.0   2751.5   2110.0   2219.0   2877.0   \n",
              "35123 2018-01-01 20:45:00   5760.0   3967.0   2751.5   2110.0   2219.0   \n",
              "35124 2018-01-01 21:00:00   3571.0   5760.0   3967.0   2751.5   2110.0   \n",
              "35125 2018-01-01 21:15:00   2786.0   3571.0   5760.0   3967.0   2751.5   \n",
              "35126 2018-01-01 21:30:00   3471.0   2786.0   3571.0   5760.0   3967.0   \n",
              "35127 2018-01-01 21:45:00   2626.5   3471.0   2786.0   3571.0   5760.0   \n",
              "35128 2018-01-01 22:00:00   2329.0   2626.5   3471.0   2786.0   3571.0   \n",
              "35129 2018-01-01 22:15:00   2402.0   2329.0   2626.5   3471.0   2786.0   \n",
              "35130 2018-01-01 22:30:00   1678.0   2402.0   2329.0   2626.5   3471.0   \n",
              "35131 2018-01-01 22:45:00   1625.0   1678.0   2402.0   2329.0   2626.5   \n",
              "35132 2018-01-01 23:00:00   2183.0   1625.0   1678.0   2402.0   2329.0   \n",
              "35133 2018-01-01 23:15:00   3135.0   2183.0   1625.0   1678.0   2402.0   \n",
              "35134 2018-01-01 23:30:00   3868.0   3135.0   2183.0   1625.0   1678.0   \n",
              "35135 2018-01-01 23:45:00   4436.0   3868.0   3135.0   2183.0   1625.0   \n",
              "\n",
              "            t5  \n",
              "35040   7951.0  \n",
              "35041   9959.0  \n",
              "35042  10495.5  \n",
              "35043  11712.0  \n",
              "35044  12338.5  \n",
              "35045  12514.0  \n",
              "35046  12489.0  \n",
              "35047  12514.0  \n",
              "35048  12388.5  \n",
              "35049  12112.0  \n",
              "35050  11164.0  \n",
              "35051   9810.0  \n",
              "35052   7282.0  \n",
              "35053   6394.0  \n",
              "35054   6035.0  \n",
              "35055   6838.0  \n",
              "35056   4337.0  \n",
              "35057   3075.0  \n",
              "35058   2947.5  \n",
              "35059   2877.0  \n",
              "35060   1684.5  \n",
              "35061   1147.0  \n",
              "35062   3882.5  \n",
              "35063   6838.0  \n",
              "35064   9448.5  \n",
              "35065   8022.0  \n",
              "35066   4895.5  \n",
              "35067   5315.0  \n",
              "35068   6468.5  \n",
              "35069   8022.0  \n",
              "...        ...  \n",
              "35106   6764.0  \n",
              "35107   5442.0  \n",
              "35108   2801.0  \n",
              "35109   2549.0  \n",
              "35110   3919.5  \n",
              "35111   2976.0  \n",
              "35112   3331.0  \n",
              "35113   4066.0  \n",
              "35114   2581.5  \n",
              "35115   1625.0  \n",
              "35116   1306.5  \n",
              "35117   2110.0  \n",
              "35118   2402.0  \n",
              "35119   2549.0  \n",
              "35120   2976.0  \n",
              "35121   2475.0  \n",
              "35122   2365.5  \n",
              "35123   2877.0  \n",
              "35124   2219.0  \n",
              "35125   2110.0  \n",
              "35126   2751.5  \n",
              "35127   3967.0  \n",
              "35128   5760.0  \n",
              "35129   3571.0  \n",
              "35130   2786.0  \n",
              "35131   3471.0  \n",
              "35132   2626.5  \n",
              "35133   2329.0  \n",
              "35134   2402.0  \n",
              "35135   1678.0  \n",
              "\n",
              "[96 rows x 7 columns]"
            ]
          },
          "execution_count": 83,
          "metadata": {},
          "output_type": "execute_result"
        }
      ]
    },
    {
      "cell_type": "code",
      "metadata": {
        "id": "b19bETUV1RrY",
        "outputId": "5ff2d560-4af1-4db2-b1d8-177d8171a8d0"
      },
      "source": [
        "35040/96\n"
      ],
      "execution_count": null,
      "outputs": [
        {
          "data": {
            "text/plain": [
              "365.0"
            ]
          },
          "execution_count": 84,
          "metadata": {},
          "output_type": "execute_result"
        }
      ]
    },
    {
      "cell_type": "code",
      "metadata": {
        "id": "uUJSqnBB1RrY",
        "outputId": "2546a912-fe2f-40f0-ccfc-7d191d2183cb"
      },
      "source": [
        "teta=data.drop(['date','pwr'])"
      ],
      "execution_count": null,
      "outputs": [
        {
          "data": {
            "text/html": [
              "<div>\n",
              "<style scoped>\n",
              "    .dataframe tbody tr th:only-of-type {\n",
              "        vertical-align: middle;\n",
              "    }\n",
              "\n",
              "    .dataframe tbody tr th {\n",
              "        vertical-align: top;\n",
              "    }\n",
              "\n",
              "    .dataframe thead th {\n",
              "        text-align: right;\n",
              "    }\n",
              "</style>\n",
              "<table border=\"1\" class=\"dataframe\">\n",
              "  <thead>\n",
              "    <tr style=\"text-align: right;\">\n",
              "      <th></th>\n",
              "      <th>date</th>\n",
              "      <th>pwr</th>\n",
              "      <th>t1</th>\n",
              "      <th>t2</th>\n",
              "      <th>t3</th>\n",
              "      <th>t4</th>\n",
              "      <th>t5</th>\n",
              "    </tr>\n",
              "  </thead>\n",
              "  <tbody>\n",
              "    <tr>\n",
              "      <th>0</th>\n",
              "      <td>2017-01-01 00:00:00</td>\n",
              "      <td>2976.0</td>\n",
              "      <td>0.0</td>\n",
              "      <td>0.0</td>\n",
              "      <td>0.0</td>\n",
              "      <td>0.0</td>\n",
              "      <td>0.0</td>\n",
              "    </tr>\n",
              "    <tr>\n",
              "      <th>1</th>\n",
              "      <td>2017-01-01 00:15:00</td>\n",
              "      <td>2655.0</td>\n",
              "      <td>2976.0</td>\n",
              "      <td>0.0</td>\n",
              "      <td>0.0</td>\n",
              "      <td>0.0</td>\n",
              "      <td>0.0</td>\n",
              "    </tr>\n",
              "  </tbody>\n",
              "</table>\n",
              "</div>"
            ],
            "text/plain": [
              "                 date     pwr      t1   t2   t3   t4   t5\n",
              "0 2017-01-01 00:00:00  2976.0     0.0  0.0  0.0  0.0  0.0\n",
              "1 2017-01-01 00:15:00  2655.0  2976.0  0.0  0.0  0.0  0.0"
            ]
          },
          "execution_count": 86,
          "metadata": {},
          "output_type": "execute_result"
        }
      ]
    },
    {
      "cell_type": "code",
      "metadata": {
        "id": "fN3O7O631RrY",
        "outputId": "9a012cd2-f615-4db9-badb-221f45d123f1"
      },
      "source": [
        "seq_length=96\n",
        "for i in range(2):\n",
        "    y=data[35040+(i*96):3040+(i+1)*96]\n",
        "    print(y)"
      ],
      "execution_count": null,
      "outputs": [
        {
          "name": "stdout",
          "output_type": "stream",
          "text": [
            "Empty DataFrame\n",
            "Columns: [date, pwr, t1, t2, t3, t4, t5]\n",
            "Index: []\n",
            "Empty DataFrame\n",
            "Columns: [date, pwr, t1, t2, t3, t4, t5]\n",
            "Index: []\n"
          ]
        }
      ]
    },
    {
      "cell_type": "code",
      "metadata": {
        "id": "SJLZxt7_1RrY",
        "outputId": "40e5b699-c2d5-413c-ed39-a1e50b51eaf8"
      },
      "source": [
        "y"
      ],
      "execution_count": null,
      "outputs": [
        {
          "data": {
            "text/html": [
              "<div>\n",
              "<style scoped>\n",
              "    .dataframe tbody tr th:only-of-type {\n",
              "        vertical-align: middle;\n",
              "    }\n",
              "\n",
              "    .dataframe tbody tr th {\n",
              "        vertical-align: top;\n",
              "    }\n",
              "\n",
              "    .dataframe thead th {\n",
              "        text-align: right;\n",
              "    }\n",
              "</style>\n",
              "<table border=\"1\" class=\"dataframe\">\n",
              "  <thead>\n",
              "    <tr style=\"text-align: right;\">\n",
              "      <th></th>\n",
              "      <th>date</th>\n",
              "      <th>pwr</th>\n",
              "      <th>t1</th>\n",
              "      <th>t2</th>\n",
              "      <th>t3</th>\n",
              "      <th>t4</th>\n",
              "      <th>t5</th>\n",
              "    </tr>\n",
              "  </thead>\n",
              "  <tbody>\n",
              "  </tbody>\n",
              "</table>\n",
              "</div>"
            ],
            "text/plain": [
              "Empty DataFrame\n",
              "Columns: [date, pwr, t1, t2, t3, t4, t5]\n",
              "Index: []"
            ]
          },
          "execution_count": 90,
          "metadata": {},
          "output_type": "execute_result"
        }
      ]
    },
    {
      "cell_type": "code",
      "metadata": {
        "id": "DMxnIRZ81RrY"
      },
      "source": [
        ""
      ],
      "execution_count": null,
      "outputs": []
    }
  ]
}