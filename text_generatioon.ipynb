{
  "nbformat": 4,
  "nbformat_minor": 0,
  "metadata": {
    "kernelspec": {
      "display_name": "Python 3",
      "language": "python",
      "name": "python3"
    },
    "language_info": {
      "codemirror_mode": {
        "name": "ipython",
        "version": 3
      },
      "file_extension": ".py",
      "mimetype": "text/x-python",
      "name": "python",
      "nbconvert_exporter": "python",
      "pygments_lexer": "ipython3",
      "version": "3.6.0"
    },
    "colab": {
      "name": "text_generatioon.ipynb",
      "provenance": []
    }
  },
  "cells": [
    {
      "cell_type": "code",
      "metadata": {
        "id": "4kVQ1P-o13wx"
      },
      "source": [
        "with open('/home/sahin/Downloads/kafka.txt','r') as doc:\n",
        "    text=doc.read()\n",
        "    "
      ],
      "execution_count": null,
      "outputs": []
    },
    {
      "cell_type": "code",
      "metadata": {
        "id": "IteUZ_8K13w0"
      },
      "source": [
        "char_to_num={char:i for i, char in enumerate(list(set(text)))}"
      ],
      "execution_count": null,
      "outputs": []
    },
    {
      "cell_type": "code",
      "metadata": {
        "id": "n5ozjIO413w0"
      },
      "source": [
        "num_to_char={i:char for i ,char in enumerate(list(set(text)))}"
      ],
      "execution_count": null,
      "outputs": []
    },
    {
      "cell_type": "code",
      "metadata": {
        "id": "zZ0jFkHb13w1",
        "outputId": "fd426ad8-1653-4951-fe9d-2172964b0ee6"
      },
      "source": [
        "vocab_size=len(list(set(text)))\n",
        "vocab_size"
      ],
      "execution_count": null,
      "outputs": [
        {
          "data": {
            "text/plain": [
              "80"
            ]
          },
          "execution_count": 4,
          "metadata": {},
          "output_type": "execute_result"
        }
      ]
    },
    {
      "cell_type": "code",
      "metadata": {
        "id": "EMznzvr513w1",
        "outputId": "52b8e8a9-fc7d-42af-d299-724fc56843fa"
      },
      "source": [
        "num_to_char[5]"
      ],
      "execution_count": null,
      "outputs": [
        {
          "data": {
            "text/plain": [
              "'U'"
            ]
          },
          "execution_count": 5,
          "metadata": {},
          "output_type": "execute_result"
        }
      ]
    },
    {
      "cell_type": "code",
      "metadata": {
        "id": "9Jp2HAuD13w2"
      },
      "source": [
        "char_to_num['h']"
      ],
      "execution_count": null,
      "outputs": []
    },
    {
      "cell_type": "code",
      "metadata": {
        "id": "8QibGec913w2"
      },
      "source": [
        "import numpy as np\n",
        "import sys\n",
        "import os\n",
        "import tensorflow\n",
        "from tensorflow.python.keras.models import Sequential\n",
        "from tensorflow.python.keras.layers import LSTM,Dense,Dropout\n",
        "from tensorflow.python.keras.optimizers import RMSprop\n",
        "from tensorflow.python.keras.callbacks import ModelCheckpoint, TensorBoard\n",
        "import time\n",
        "import datetime "
      ],
      "execution_count": null,
      "outputs": []
    },
    {
      "cell_type": "code",
      "metadata": {
        "id": "8yxtaNnd13w3"
      },
      "source": [
        "seq_lenth=60\n",
        "\n",
        "x_data=np.zeros((len(text)-1,seq_lenth,vocab_size ), dtype=np.int16)\n",
        "y_data=np.zeros((len(text)-1,vocab_size), dtype=np.int16)"
      ],
      "execution_count": null,
      "outputs": []
    },
    {
      "cell_type": "code",
      "metadata": {
        "id": "4oIA-IPm13w3"
      },
      "source": [
        "x_list=[]\n",
        "y_list=[]\n",
        "\n",
        "for i in range(0,len(text)-seq_lenth,1):\n",
        "    x_list.append(text[i:i+seq_lenth])\n",
        "    y_list.append(text[i+seq_lenth])\n",
        "    "
      ],
      "execution_count": null,
      "outputs": []
    },
    {
      "cell_type": "code",
      "metadata": {
        "id": "jWn88mgK13w4",
        "outputId": "126b8288-50f7-47ef-923c-fcb5431786be"
      },
      "source": [
        "x_list[:5]"
      ],
      "execution_count": null,
      "outputs": [
        {
          "data": {
            "text/plain": [
              "['One morning, when Gregor Samsa woke from troubled dreams, he',\n",
              " 'ne morning, when Gregor Samsa woke from troubled dreams, he ',\n",
              " 'e morning, when Gregor Samsa woke from troubled dreams, he f',\n",
              " ' morning, when Gregor Samsa woke from troubled dreams, he fo',\n",
              " 'morning, when Gregor Samsa woke from troubled dreams, he fou']"
            ]
          },
          "execution_count": 9,
          "metadata": {},
          "output_type": "execute_result"
        }
      ]
    },
    {
      "cell_type": "code",
      "metadata": {
        "id": "SBhNkmYa13w4",
        "outputId": "3a2a1f08-eb7a-4340-dacd-5740bcd1c267"
      },
      "source": [
        "y_list[:5]"
      ],
      "execution_count": null,
      "outputs": [
        {
          "data": {
            "text/plain": [
              "[' ', 'f', 'o', 'u', 'n']"
            ]
          },
          "execution_count": 10,
          "metadata": {},
          "output_type": "execute_result"
        }
      ]
    },
    {
      "cell_type": "code",
      "metadata": {
        "id": "2Mu8EfOW13w5",
        "outputId": "022f5d87-ea1e-487e-b74a-9d5913e11b3a"
      },
      "source": [
        "y_data[0]"
      ],
      "execution_count": null,
      "outputs": [
        {
          "data": {
            "text/plain": [
              "array([0, 0, 0, 0, 0, 0, 0, 0, 0, 0, 0, 0, 0, 0, 0, 0, 0, 0, 0, 0, 0, 0,\n",
              "       0, 0, 0, 0, 0, 0, 0, 0, 0, 0, 0, 0, 0, 0, 0, 0, 0, 0, 0, 0, 0, 0,\n",
              "       0, 0, 0, 0, 0, 0, 0, 0, 0, 0, 0, 0, 0, 0, 0, 0, 0, 0, 0, 0, 0, 0,\n",
              "       0, 0, 0, 0, 0, 0, 0, 0, 0, 0, 0, 0, 0, 0], dtype=int16)"
            ]
          },
          "execution_count": 11,
          "metadata": {},
          "output_type": "execute_result"
        }
      ]
    },
    {
      "cell_type": "code",
      "metadata": {
        "id": "Q812PH4213w5",
        "outputId": "b49af5b5-6792-4da6-f4c4-2fc2de13ac01"
      },
      "source": [
        "x_data[1,59]"
      ],
      "execution_count": null,
      "outputs": [
        {
          "data": {
            "text/plain": [
              "array([0, 0, 0, 0, 0, 0, 0, 0, 0, 0, 0, 0, 0, 0, 0, 0, 0, 0, 0, 0, 0, 0,\n",
              "       0, 0, 0, 0, 0, 0, 0, 0, 0, 0, 0, 0, 0, 0, 0, 0, 0, 0, 0, 0, 0, 0,\n",
              "       0, 0, 0, 0, 0, 0, 0, 0, 0, 0, 0, 0, 0, 0, 0, 0, 0, 0, 0, 0, 0, 0,\n",
              "       0, 0, 0, 0, 0, 0, 0, 0, 0, 0, 0, 0, 0, 0], dtype=int16)"
            ]
          },
          "execution_count": 12,
          "metadata": {},
          "output_type": "execute_result"
        }
      ]
    },
    {
      "cell_type": "code",
      "metadata": {
        "id": "GiCT8Qnz13w5"
      },
      "source": [
        "unix=time.time()\n",
        "current_time= datetime.datetime.fromtimestamp(unix).strftime('%y_%m_%d_%H_%M_%S')\n",
        "\n",
        "directory_1='/home/sahin/Desktop/checkspoints/{}'.format(current_time)\n",
        "directory_2='/home/sahin/Desktop/logs/text_generation{}'.format(current_time)\n",
        "tensorboard=TensorBoard(log_dir=directory_2)\n",
        "model_check=ModelCheckpoint(filepath='check_parameters/{}'.format(current_time),monitor='loss',save_best_only=True,\n",
        "                            save_weights_only=True, verbose=1)\n",
        "if not os.path.exists(directory_1):\n",
        "    os.makedirs(directory_1)\n",
        "if not os.path.exists(directory_2):\n",
        "    os.makedirs(directory_2)\n",
        "    \n",
        "model=Sequential()\n",
        "model.add(LSTM(128, input_shape=(None,80)))\n",
        "model.add(Dropout(0.2))\n",
        "model.add(Dense(80,activation='softmax'))\n",
        "optimizer=RMSprop(lr=0.001)\n",
        "model.compile(loss='categorical_crossentropy', optimizer=optimizer)"
      ],
      "execution_count": null,
      "outputs": []
    },
    {
      "cell_type": "code",
      "metadata": {
        "id": "rIs9Ml_L13w5",
        "outputId": "a562282a-fc63-405e-b2ed-8097923048f5"
      },
      "source": [
        "model.summary()"
      ],
      "execution_count": null,
      "outputs": [
        {
          "name": "stdout",
          "output_type": "stream",
          "text": [
            "_________________________________________________________________\n",
            "Layer (type)                 Output Shape              Param #   \n",
            "=================================================================\n",
            "lstm_2 (LSTM)                (None, 128)               107008    \n",
            "_________________________________________________________________\n",
            "dropout_2 (Dropout)          (None, 128)               0         \n",
            "_________________________________________________________________\n",
            "dense_2 (Dense)              (None, 80)                10320     \n",
            "=================================================================\n",
            "Total params: 117,328\n",
            "Trainable params: 117,328\n",
            "Non-trainable params: 0\n",
            "_________________________________________________________________\n"
          ]
        }
      ]
    },
    {
      "cell_type": "code",
      "metadata": {
        "id": "DknqwHi513w6",
        "outputId": "5c516b96-4f8a-412e-cf55-0cc30919c1d7"
      },
      "source": [
        "model.fit(x_data, y_data, batch_size=256, epochs=5, callbacks=[tensorboard,model_check])"
      ],
      "execution_count": null,
      "outputs": [
        {
          "name": "stdout",
          "output_type": "stream",
          "text": [
            "Epoch 1/5\n",
            "137472/137627 [============================>.]137472/137627 [============================>.] - ETA: 0s - loss: 0.0000e+00Epoch 00001: loss improved from inf to 0.00000, saving model to check_parameters/19_08_30_13_49_50\n",
            "137627/137627 [==============================]137627/137627 [==============================] - 323s 2ms/step - loss: 0.0000e+00\n",
            "\n",
            "Epoch 2/5\n",
            "137472/137627 [============================>.]137472/137627 [============================>.] - ETA: 0s - loss: 0.0000e+00Epoch 00002: loss did not improve\n",
            "137627/137627 [==============================]137627/137627 [==============================] - 311s 2ms/step - loss: 0.0000e+00\n",
            "\n",
            "Epoch 3/5\n",
            "137472/137627 [============================>.]137472/137627 [============================>.] - ETA: 0s - loss: 0.0000e+00Epoch 00003: loss did not improve\n",
            "137627/137627 [==============================]137627/137627 [==============================] - 319s 2ms/step - loss: 0.0000e+00\n",
            "\n",
            "Epoch 4/5\n",
            "137472/137627 [============================>.]137472/137627 [============================>.] - ETA: 0s - loss: 0.0000e+00Epoch 00004: loss did not improve\n",
            "137627/137627 [==============================]137627/137627 [==============================] - 310s 2ms/step - loss: 0.0000e+00\n",
            "\n",
            "Epoch 5/5\n",
            "137472/137627 [============================>.]137472/137627 [============================>.] - ETA: 0s - loss: 0.0000e+00Epoch 00005: loss did not improve\n",
            "137627/137627 [==============================]137627/137627 [==============================] - 302s 2ms/step - loss: 0.0000e+00\n",
            "\n"
          ]
        },
        {
          "data": {
            "text/plain": [
              "<tensorflow.python.keras._impl.keras.callbacks.History at 0x7f5a799cc6d8>"
            ]
          },
          "execution_count": 16,
          "metadata": {},
          "output_type": "execute_result"
        }
      ]
    },
    {
      "cell_type": "code",
      "metadata": {
        "id": "AWL_mt4J13w6"
      },
      "source": [
        "sequence=text[:60]\n",
        "sys.stdout.write(sequence)\n",
        "\n",
        "for k in range(0,200):\n",
        "    x_pred=np.zeros((60,80),dtype=np.int16)\n",
        "    for t, chars in enumerate(sequence):\n",
        "        x_pred[t,char_to_num[chars]]=1\n",
        "    \n",
        "    x_pred=np.expand_dims(x_pred, axis=0)\n",
        "    y_pred=num_to_char[np.argmax(model.predict(x_pred))]\n",
        "    sys.stdout.write(y_pred)\n",
        "    sequence+=y_pred\n",
        "    sequence=sequence[1:]\n",
        "    #print(sequence)\n",
        "  \n"
      ],
      "execution_count": null,
      "outputs": []
    },
    {
      "cell_type": "code",
      "metadata": {
        "id": "k1iNuKis13w6"
      },
      "source": [
        ""
      ],
      "execution_count": null,
      "outputs": []
    }
  ]
}